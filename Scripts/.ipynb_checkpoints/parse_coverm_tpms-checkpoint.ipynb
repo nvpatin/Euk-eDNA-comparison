{
 "cells": [
  {
   "cell_type": "code",
   "execution_count": 1,
   "id": "0c35b639-8ce8-499d-b0c9-6a9586f810dc",
   "metadata": {},
   "outputs": [],
   "source": [
    "import os as os\n",
    "import glob as glob\n",
    "import pandas as pd"
   ]
  },
  {
   "cell_type": "code",
   "execution_count": 32,
   "id": "d7c23db9-241e-451b-91a9-97fa9b681230",
   "metadata": {},
   "outputs": [],
   "source": [
    "os.chdir(\"/Users/Home/OneDrive - SCCWRP/RREAS Time Series/Metagenomes/tpms/RL2017\")"
   ]
  },
  {
   "cell_type": "code",
   "execution_count": 33,
   "id": "54a921e0-f1ff-4124-ae94-50a449dbc1b1",
   "metadata": {},
   "outputs": [
    {
     "ename": "NameError",
     "evalue": "name 'coverm' is not defined",
     "output_type": "error",
     "traceback": [
      "\u001b[0;31m---------------------------------------------------------------------------\u001b[0m",
      "\u001b[0;31mNameError\u001b[0m                                 Traceback (most recent call last)",
      "Cell \u001b[0;32mIn[33], line 12\u001b[0m\n\u001b[1;32m      9\u001b[0m     coverms\u001b[38;5;241m.\u001b[39mappend(tpm)\n\u001b[1;32m     11\u001b[0m coverms \u001b[38;5;241m=\u001b[39m pd\u001b[38;5;241m.\u001b[39mconcat(coverms, ignore_index\u001b[38;5;241m=\u001b[39m\u001b[38;5;28;01mTrue\u001b[39;00m)\n\u001b[0;32m---> 12\u001b[0m \u001b[43mcoverm\u001b[49m\u001b[38;5;241m.\u001b[39msort_values(by\u001b[38;5;241m=\u001b[39m[\u001b[38;5;124m'\u001b[39m\u001b[38;5;124mSample\u001b[39m\u001b[38;5;124m'\u001b[39m, \u001b[38;5;124m'\u001b[39m\u001b[38;5;124mContig\u001b[39m\u001b[38;5;124m'\u001b[39m])\n\u001b[1;32m     13\u001b[0m coverms\u001b[38;5;241m.\u001b[39mhead()\n",
      "\u001b[0;31mNameError\u001b[0m: name 'coverm' is not defined"
     ]
    }
   ],
   "source": [
    "coverms = []\n",
    "\n",
    "for file in glob.glob(\"*coverm.tsv\"):\n",
    "    sample, x = file.split('_O')\n",
    "    tpm = pd.read_csv(file, sep='\\t')\n",
    "    tpm['Sample'] = sample\n",
    "    tpm = tpm.rename(columns={'Contig' : 'ORF'})\n",
    "    tpm = tpm.rename(columns={tpm.columns[1]: \"TPM\"})\n",
    "    coverms.append(tpm)\n",
    "\n",
    "coverms = pd.concat(coverms, ignore_index=True)\n",
    "coverms.sort_values(by=['Sample', 'Contig'])\n",
    "coverms.head()"
   ]
  },
  {
   "cell_type": "code",
   "execution_count": null,
   "id": "6f896f04-0749-4836-95b3-aec248ded918",
   "metadata": {},
   "outputs": [],
   "source": []
  }
 ],
 "metadata": {
  "kernelspec": {
   "display_name": "Python 3 (ipykernel)",
   "language": "python",
   "name": "python3"
  },
  "language_info": {
   "codemirror_mode": {
    "name": "ipython",
    "version": 3
   },
   "file_extension": ".py",
   "mimetype": "text/x-python",
   "name": "python",
   "nbconvert_exporter": "python",
   "pygments_lexer": "ipython3",
   "version": "3.10.10"
  }
 },
 "nbformat": 4,
 "nbformat_minor": 5
}
